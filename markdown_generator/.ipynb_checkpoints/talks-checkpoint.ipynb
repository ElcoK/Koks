{
 "cells": [
  {
   "cell_type": "markdown",
   "metadata": {},
   "source": [
    "# Talks markdown generator for academicpages\n",
    "\n",
    "Takes a TSV of talks with metadata and converts them for use with [academicpages.github.io](academicpages.github.io). This is an interactive Jupyter notebook ([see more info here](http://jupyter-notebook-beginner-guide.readthedocs.io/en/latest/what_is_jupyter.html)). The core python code is also in `talks.py`. Run either from the `markdown_generator` folder after replacing `talks.tsv` with one containing your data.\n",
    "\n",
    "TODO: Make this work with BibTex and other databases, rather than Stuart's non-standard TSV format and citation style."
   ]
  },
  {
   "cell_type": "code",
   "execution_count": 1,
   "metadata": {},
   "outputs": [],
   "source": [
    "import pandas as pd\n",
    "import os"
   ]
  },
  {
   "cell_type": "markdown",
   "metadata": {},
   "source": [
    "## Data format\n",
    "\n",
    "The TSV needs to have the following columns: title, type, url_slug, venue, date, location, talk_url, description, with a header at the top. Many of these fields can be blank, but the columns must be in the TSV.\n",
    "\n",
    "- Fields that cannot be blank: `title`, `url_slug`, `date`. All else can be blank. `type` defaults to \"Talk\" \n",
    "- `date` must be formatted as YYYY-MM-DD.\n",
    "- `url_slug` will be the descriptive part of the .md file and the permalink URL for the page about the paper. \n",
    "    - The .md file will be `YYYY-MM-DD-[url_slug].md` and the permalink will be `https://[yourdomain]/talks/YYYY-MM-DD-[url_slug]`\n",
    "    - The combination of `url_slug` and `date` must be unique, as it will be the basis for your filenames\n",
    "\n",
    "This is how the raw file looks (it doesn't look pretty, use a spreadsheet or other program to edit and create)."
   ]
  },
  {
   "cell_type": "code",
   "execution_count": 2,
   "metadata": {},
   "outputs": [
    {
     "name": "stderr",
     "output_type": "stream",
     "text": [
      "'cat' is not recognized as an internal or external command,\n",
      "operable program or batch file.\n"
     ]
    }
   ],
   "source": [
    "!cat talks.tsv"
   ]
  },
  {
   "cell_type": "markdown",
   "metadata": {},
   "source": [
    "## Import TSV\n",
    "\n",
    "Pandas makes this easy with the read_csv function. We are using a TSV, so we specify the separator as a tab, or `\\t`.\n",
    "\n",
    "I found it important to put this data in a tab-separated values format, because there are a lot of commas in this kind of data and comma-separated values can get messed up. However, you can modify the import statement, as pandas also has read_excel(), read_json(), and others."
   ]
  },
  {
   "cell_type": "code",
   "execution_count": 3,
   "metadata": {},
   "outputs": [
    {
     "data": {
      "text/html": [
       "<div>\n",
       "<style scoped>\n",
       "    .dataframe tbody tr th:only-of-type {\n",
       "        vertical-align: middle;\n",
       "    }\n",
       "\n",
       "    .dataframe tbody tr th {\n",
       "        vertical-align: top;\n",
       "    }\n",
       "\n",
       "    .dataframe thead th {\n",
       "        text-align: right;\n",
       "    }\n",
       "</style>\n",
       "<table border=\"1\" class=\"dataframe\">\n",
       "  <thead>\n",
       "    <tr style=\"text-align: right;\">\n",
       "      <th></th>\n",
       "      <th>title</th>\n",
       "      <th>type</th>\n",
       "      <th>url_slug</th>\n",
       "      <th>venue</th>\n",
       "      <th>date</th>\n",
       "      <th>location</th>\n",
       "      <th>talk_url</th>\n",
       "      <th>description</th>\n",
       "    </tr>\n",
       "  </thead>\n",
       "  <tbody>\n",
       "    <tr>\n",
       "      <th>0</th>\n",
       "      <td>Using The Data Revolution in Risk-Based Decisi...</td>\n",
       "      <td>Conference session</td>\n",
       "      <td>session-1</td>\n",
       "      <td>Understanding Risk Forum</td>\n",
       "      <td>May-18</td>\n",
       "      <td>Mexico City, Mexico</td>\n",
       "      <td>NaN</td>\n",
       "      <td>NaN</td>\n",
       "    </tr>\n",
       "    <tr>\n",
       "      <th>1</th>\n",
       "      <td>Oral presentation on the comparison between In...</td>\n",
       "      <td>Conference proceedings talk</td>\n",
       "      <td>talk-1</td>\n",
       "      <td>North American Regional Science Association co...</td>\n",
       "      <td>11/1/2016</td>\n",
       "      <td>Minneapolis, MN, USA</td>\n",
       "      <td>NaN</td>\n",
       "      <td>NaN</td>\n",
       "    </tr>\n",
       "    <tr>\n",
       "      <th>2</th>\n",
       "      <td>Invited seminar on modelling the economic effe...</td>\n",
       "      <td>Seminar</td>\n",
       "      <td>talk-2</td>\n",
       "      <td>Texas A&amp;M University</td>\n",
       "      <td>11/1/2016</td>\n",
       "      <td>Galveston, TX, USA</td>\n",
       "      <td>NaN</td>\n",
       "      <td>NaN</td>\n",
       "    </tr>\n",
       "    <tr>\n",
       "      <th>3</th>\n",
       "      <td>Oral presentation on the economic effects of f...</td>\n",
       "      <td>Conference proceedings talk</td>\n",
       "      <td>talk-3</td>\n",
       "      <td>European Regional Science Association (ERSA) c...</td>\n",
       "      <td>8/1/2016</td>\n",
       "      <td>Vienna, Austria</td>\n",
       "      <td>NaN</td>\n",
       "      <td>NaN</td>\n",
       "    </tr>\n",
       "    <tr>\n",
       "      <th>4</th>\n",
       "      <td>Invited lunch lecture on the economic effects ...</td>\n",
       "      <td>Seminar</td>\n",
       "      <td>talk-4</td>\n",
       "      <td>PBL Netherlands Environmental Assessment Agency</td>\n",
       "      <td>5/1/2016</td>\n",
       "      <td>Bilthoven, The Netherlands</td>\n",
       "      <td>NaN</td>\n",
       "      <td>NaN</td>\n",
       "    </tr>\n",
       "    <tr>\n",
       "      <th>5</th>\n",
       "      <td>Oral presentation on modelling the economic ef...</td>\n",
       "      <td>Summer School</td>\n",
       "      <td>talk-5</td>\n",
       "      <td>Beijing Normal University. Hazard and Risk Sum...</td>\n",
       "      <td>Aug-15</td>\n",
       "      <td>Beijing, China</td>\n",
       "      <td>NaN</td>\n",
       "      <td>NaN</td>\n",
       "    </tr>\n",
       "    <tr>\n",
       "      <th>6</th>\n",
       "      <td>Oral presentation on the economic effects of f...</td>\n",
       "      <td>Conference proceedings talk</td>\n",
       "      <td>talk-6</td>\n",
       "      <td>European Climate Change Adaptation (ECCA) conf...</td>\n",
       "      <td>May-15</td>\n",
       "      <td>Copenhagen, Denmark</td>\n",
       "      <td>NaN</td>\n",
       "      <td>NaN</td>\n",
       "    </tr>\n",
       "    <tr>\n",
       "      <th>7</th>\n",
       "      <td>Invited lunch lecture on modelling the economi...</td>\n",
       "      <td>Seminar</td>\n",
       "      <td>talk-7</td>\n",
       "      <td>FEEM Fondazione Eni Enrico Mattei</td>\n",
       "      <td>Oct-14</td>\n",
       "      <td>Venice, Italy</td>\n",
       "      <td>NaN</td>\n",
       "      <td>NaN</td>\n",
       "    </tr>\n",
       "    <tr>\n",
       "      <th>8</th>\n",
       "      <td>Oral presentation on the methodology for model...</td>\n",
       "      <td>Conference proceedings talk</td>\n",
       "      <td>talk-8</td>\n",
       "      <td>22nd International Input-Output conference.</td>\n",
       "      <td>Jun-14</td>\n",
       "      <td>Lisbon, Portugal</td>\n",
       "      <td>NaN</td>\n",
       "      <td>NaN</td>\n",
       "    </tr>\n",
       "    <tr>\n",
       "      <th>9</th>\n",
       "      <td>Oral presentation on modelling the economic ef...</td>\n",
       "      <td>Conference proceedings talk</td>\n",
       "      <td>talk-9</td>\n",
       "      <td>Deltas in Times of Climate Change II conference.</td>\n",
       "      <td>14-Sep</td>\n",
       "      <td>Rotterdam, The Netherlands</td>\n",
       "      <td>NaN</td>\n",
       "      <td>NaN</td>\n",
       "    </tr>\n",
       "    <tr>\n",
       "      <th>10</th>\n",
       "      <td>Oral presentation on modelling the economic ef...</td>\n",
       "      <td>Conference proceedings talk</td>\n",
       "      <td>talk-10</td>\n",
       "      <td>Annual conference of the Society for Risk Anal...</td>\n",
       "      <td>Dec-13</td>\n",
       "      <td>Baltimore, United States.</td>\n",
       "      <td>NaN</td>\n",
       "      <td>NaN</td>\n",
       "    </tr>\n",
       "  </tbody>\n",
       "</table>\n",
       "</div>"
      ],
      "text/plain": [
       "                                                title  \\\n",
       "0   Using The Data Revolution in Risk-Based Decisi...   \n",
       "1   Oral presentation on the comparison between In...   \n",
       "2   Invited seminar on modelling the economic effe...   \n",
       "3   Oral presentation on the economic effects of f...   \n",
       "4   Invited lunch lecture on the economic effects ...   \n",
       "5   Oral presentation on modelling the economic ef...   \n",
       "6   Oral presentation on the economic effects of f...   \n",
       "7   Invited lunch lecture on modelling the economi...   \n",
       "8   Oral presentation on the methodology for model...   \n",
       "9   Oral presentation on modelling the economic ef...   \n",
       "10  Oral presentation on modelling the economic ef...   \n",
       "\n",
       "                           type   url_slug  \\\n",
       "0            Conference session  session-1   \n",
       "1   Conference proceedings talk     talk-1   \n",
       "2                       Seminar     talk-2   \n",
       "3   Conference proceedings talk     talk-3   \n",
       "4                       Seminar     talk-4   \n",
       "5                 Summer School     talk-5   \n",
       "6   Conference proceedings talk     talk-6   \n",
       "7                       Seminar     talk-7   \n",
       "8   Conference proceedings talk     talk-8   \n",
       "9   Conference proceedings talk     talk-9   \n",
       "10  Conference proceedings talk    talk-10   \n",
       "\n",
       "                                                venue       date  \\\n",
       "0                            Understanding Risk Forum     May-18   \n",
       "1   North American Regional Science Association co...  11/1/2016   \n",
       "2                                Texas A&M University  11/1/2016   \n",
       "3   European Regional Science Association (ERSA) c...   8/1/2016   \n",
       "4     PBL Netherlands Environmental Assessment Agency   5/1/2016   \n",
       "5   Beijing Normal University. Hazard and Risk Sum...     Aug-15   \n",
       "6   European Climate Change Adaptation (ECCA) conf...     May-15   \n",
       "7                   FEEM Fondazione Eni Enrico Mattei     Oct-14   \n",
       "8         22nd International Input-Output conference.     Jun-14   \n",
       "9    Deltas in Times of Climate Change II conference.     14-Sep   \n",
       "10  Annual conference of the Society for Risk Anal...     Dec-13   \n",
       "\n",
       "                      location  talk_url  description  \n",
       "0          Mexico City, Mexico       NaN          NaN  \n",
       "1         Minneapolis, MN, USA       NaN          NaN  \n",
       "2           Galveston, TX, USA       NaN          NaN  \n",
       "3              Vienna, Austria       NaN          NaN  \n",
       "4   Bilthoven, The Netherlands       NaN          NaN  \n",
       "5               Beijing, China       NaN          NaN  \n",
       "6          Copenhagen, Denmark       NaN          NaN  \n",
       "7                Venice, Italy       NaN          NaN  \n",
       "8             Lisbon, Portugal       NaN          NaN  \n",
       "9   Rotterdam, The Netherlands       NaN          NaN  \n",
       "10   Baltimore, United States.       NaN          NaN  "
      ]
     },
     "execution_count": 3,
     "metadata": {},
     "output_type": "execute_result"
    }
   ],
   "source": [
    "talks = pd.read_csv(\"talks.tsv\", sep=\"\\t\", header=0)\n",
    "talks"
   ]
  },
  {
   "cell_type": "markdown",
   "metadata": {},
   "source": [
    "## Escape special characters\n",
    "\n",
    "YAML is very picky about how it takes a valid string, so we are replacing single and double quotes (and ampersands) with their HTML encoded equivilents. This makes them look not so readable in raw format, but they are parsed and rendered nicely."
   ]
  },
  {
   "cell_type": "code",
   "execution_count": 4,
   "metadata": {},
   "outputs": [],
   "source": [
    "html_escape_table = {\n",
    "    \"&\": \"&amp;\",\n",
    "    '\"': \"&quot;\",\n",
    "    \"'\": \"&apos;\"\n",
    "    }\n",
    "\n",
    "def html_escape(text):\n",
    "    if type(text) is str:\n",
    "        return \"\".join(html_escape_table.get(c,c) for c in text)\n",
    "    else:\n",
    "        return \"False\""
   ]
  },
  {
   "cell_type": "markdown",
   "metadata": {},
   "source": [
    "## Creating the markdown files\n",
    "\n",
    "This is where the heavy lifting is done. This loops through all the rows in the TSV dataframe, then starts to concatentate a big string (```md```) that contains the markdown for each type. It does the YAML metadata first, then does the description for the individual page."
   ]
  },
  {
   "cell_type": "code",
   "execution_count": 5,
   "metadata": {},
   "outputs": [],
   "source": [
    "loc_dict = {}\n",
    "\n",
    "for row, item in talks.iterrows():\n",
    "    \n",
    "    md_filename = str(item.date) + \"-\" + item.url_slug + \".md\"\n",
    "    html_filename = str(item.date) + \"-\" + item.url_slug \n",
    "    year = item.date[:4]\n",
    "    \n",
    "    md = \"---\\ntitle: \\\"\"   + item.title + '\"\\n'\n",
    "    md += \"collection: talks\" + \"\\n\"\n",
    "    \n",
    "    if len(str(item.type)) > 3:\n",
    "        md += 'type: \"' + item.type + '\"\\n'\n",
    "    else:\n",
    "        md += 'type: \"Talk\"\\n'\n",
    "    \n",
    "    md += \"permalink: /talks/\" + html_filename + \"\\n\"\n",
    "    \n",
    "    if len(str(item.venue)) > 3:\n",
    "        md += 'venue: \"' + item.venue + '\"\\n'\n",
    "        \n",
    "    if len(str(item.location)) > 3:\n",
    "        md += \"date: \" + str(item.date) + \"\\n\"\n",
    "    \n",
    "    if len(str(item.location)) > 3:\n",
    "        md += 'location: \"' + str(item.location) + '\"\\n'\n",
    "           \n",
    "    md += \"---\\n\"\n",
    "    \n",
    "    \n",
    "    if len(str(item.talk_url)) > 3:\n",
    "        md += \"\\n[More information here](\" + item.talk_url + \")\\n\" \n",
    "        \n",
    "    \n",
    "    if len(str(item.description)) > 3:\n",
    "        md += \"\\n\" + html_escape(item.description) + \"\\n\"\n",
    "        \n",
    "        \n",
    "    md_filename = os.path.basename(md_filename)\n",
    "    #print(md)\n",
    "    \n",
    "    with open(\"../_talks/\" + md_filename, 'w') as f:\n",
    "        f.write(md)"
   ]
  },
  {
   "cell_type": "markdown",
   "metadata": {},
   "source": [
    "These files are in the talks directory, one directory below where we're working from."
   ]
  },
  {
   "cell_type": "code",
   "execution_count": 6,
   "metadata": {},
   "outputs": [
    {
     "name": "stderr",
     "output_type": "stream",
     "text": [
      "'ls' is not recognized as an internal or external command,\n",
      "operable program or batch file.\n"
     ]
    }
   ],
   "source": [
    "!ls ../_talks"
   ]
  },
  {
   "cell_type": "code",
   "execution_count": 7,
   "metadata": {},
   "outputs": [
    {
     "name": "stderr",
     "output_type": "stream",
     "text": [
      "'cat' is not recognized as an internal or external command,\n",
      "operable program or batch file.\n"
     ]
    }
   ],
   "source": [
    "!cat ../_talks/2013-03-01-tutorial-1.md"
   ]
  },
  {
   "cell_type": "code",
   "execution_count": null,
   "metadata": {},
   "outputs": [],
   "source": []
  }
 ],
 "metadata": {
  "kernelspec": {
   "display_name": "Python 3",
   "language": "python",
   "name": "python3"
  },
  "language_info": {
   "codemirror_mode": {
    "name": "ipython",
    "version": 3
   },
   "file_extension": ".py",
   "mimetype": "text/x-python",
   "name": "python",
   "nbconvert_exporter": "python",
   "pygments_lexer": "ipython3",
   "version": "3.6.6"
  }
 },
 "nbformat": 4,
 "nbformat_minor": 1
}
