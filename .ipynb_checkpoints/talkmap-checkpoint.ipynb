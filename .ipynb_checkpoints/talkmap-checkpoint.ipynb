{
 "cells": [
  {
   "cell_type": "markdown",
   "metadata": {},
   "source": [
    "# Leaflet cluster map of talk locations\n",
    "\n",
    "Run this from the _talks/ directory, which contains .md files of all your talks. This scrapes the location YAML field from each .md file, geolocates it with geopy/Nominatim, and uses the getorg library to output data, HTML, and Javascript for a standalone cluster map."
   ]
  },
  {
   "cell_type": "code",
   "execution_count": 1,
   "metadata": {},
   "outputs": [
    {
     "name": "stdout",
     "output_type": "stream",
     "text": [
      "Requirement already up-to-date: getorg in c:\\users\\elcok\\miniconda3\\lib\\site-packages (0.3.1)\n",
      "Requirement already satisfied, skipping upgrade: pygithub in c:\\users\\elcok\\miniconda3\\lib\\site-packages (from getorg) (1.43.2)\n",
      "Requirement already satisfied, skipping upgrade: retrying in c:\\users\\elcok\\miniconda3\\lib\\site-packages (from getorg) (1.3.3)\n",
      "Requirement already satisfied, skipping upgrade: geopy in c:\\users\\elcok\\miniconda3\\lib\\site-packages (from getorg) (1.17.0)\n",
      "Requirement already satisfied, skipping upgrade: pyjwt in c:\\users\\elcok\\miniconda3\\lib\\site-packages (from pygithub->getorg) (1.6.4)\n",
      "Requirement already satisfied, skipping upgrade: requests>=2.14.0 in c:\\users\\elcok\\miniconda3\\lib\\site-packages (from pygithub->getorg) (2.19.1)\n",
      "Requirement already satisfied, skipping upgrade: Deprecated in c:\\users\\elcok\\miniconda3\\lib\\site-packages (from pygithub->getorg) (1.2.3)\n",
      "Requirement already satisfied, skipping upgrade: six>=1.7.0 in c:\\users\\elcok\\miniconda3\\lib\\site-packages (from retrying->getorg) (1.11.0)\n",
      "Requirement already satisfied, skipping upgrade: geographiclib<2,>=1.49 in c:\\users\\elcok\\miniconda3\\lib\\site-packages (from geopy->getorg) (1.49)\n",
      "Requirement already satisfied, skipping upgrade: chardet<3.1.0,>=3.0.2 in c:\\users\\elcok\\miniconda3\\lib\\site-packages (from requests>=2.14.0->pygithub->getorg) (3.0.4)\n",
      "Requirement already satisfied, skipping upgrade: idna<2.8,>=2.5 in c:\\users\\elcok\\miniconda3\\lib\\site-packages (from requests>=2.14.0->pygithub->getorg) (2.7)\n",
      "Requirement already satisfied, skipping upgrade: urllib3<1.24,>=1.21.1 in c:\\users\\elcok\\miniconda3\\lib\\site-packages (from requests>=2.14.0->pygithub->getorg) (1.23)\n",
      "Requirement already satisfied, skipping upgrade: certifi>=2017.4.17 in c:\\users\\elcok\\miniconda3\\lib\\site-packages (from requests>=2.14.0->pygithub->getorg) (2018.8.24)\n",
      "Requirement already satisfied, skipping upgrade: wrapt<2,>=1 in c:\\users\\elcok\\miniconda3\\lib\\site-packages (from Deprecated->pygithub->getorg) (1.10.11)\n",
      "IPywidgets and ipyleaflet support enabled.\n"
     ]
    }
   ],
   "source": [
    "!pip install getorg --upgrade\n",
    "import glob\n",
    "import getorg\n",
    "from geopy import Nominatim"
   ]
  },
  {
   "cell_type": "code",
   "execution_count": 9,
   "metadata": {},
   "outputs": [],
   "source": [
    "g = glob.glob(\"C:\\Projects\\Koks\\_talks\\*.md\")"
   ]
  },
  {
   "cell_type": "code",
   "execution_count": 10,
   "metadata": {
    "scrolled": true
   },
   "outputs": [
    {
     "name": "stderr",
     "output_type": "stream",
     "text": [
      "C:\\Users\\elcok\\Miniconda3\\lib\\site-packages\\geopy\\geocoders\\osm.py:143: UserWarning: Using Nominatim with the default \"geopy/1.17.0\" `user_agent` is strongly discouraged, as it violates Nominatim's ToS https://operations.osmfoundation.org/policies/nominatim/ and may possibly cause 403 and 429 HTTP errors. Please specify a custom `user_agent` with `Nominatim(user_agent=\"my-application\")` or by overriding the default `user_agent`: `geopy.geocoders.options.default_user_agent = \"my-application\"`. In geopy 2.0 this will become an exception.\n",
      "  UserWarning\n"
     ]
    }
   ],
   "source": [
    "geocoder = Nominatim()\n",
    "location_dict = {}\n",
    "location = \"\"\n",
    "permalink = \"\"\n",
    "title = \"\""
   ]
  },
  {
   "cell_type": "code",
   "execution_count": 11,
   "metadata": {},
   "outputs": [
    {
     "data": {
      "text/plain": [
       "['C:\\\\Projects\\\\Koks\\\\_talks\\\\14-Sep-talk-9.md',\n",
       " 'C:\\\\Projects\\\\Koks\\\\_talks\\\\2016-talk-1.md',\n",
       " 'C:\\\\Projects\\\\Koks\\\\_talks\\\\2016-talk-2.md',\n",
       " 'C:\\\\Projects\\\\Koks\\\\_talks\\\\2016-talk-3.md',\n",
       " 'C:\\\\Projects\\\\Koks\\\\_talks\\\\2016-talk-4.md',\n",
       " 'C:\\\\Projects\\\\Koks\\\\_talks\\\\Aug-15-talk-5.md',\n",
       " 'C:\\\\Projects\\\\Koks\\\\_talks\\\\Dec-13-talk-10.md',\n",
       " 'C:\\\\Projects\\\\Koks\\\\_talks\\\\Jun-14-talk-8.md',\n",
       " 'C:\\\\Projects\\\\Koks\\\\_talks\\\\May-15-talk-6.md',\n",
       " 'C:\\\\Projects\\\\Koks\\\\_talks\\\\May-18-session-1.md',\n",
       " 'C:\\\\Projects\\\\Koks\\\\_talks\\\\Oct-14-talk-7.md']"
      ]
     },
     "execution_count": 11,
     "metadata": {},
     "output_type": "execute_result"
    }
   ],
   "source": [
    "g"
   ]
  },
  {
   "cell_type": "code",
   "execution_count": 12,
   "metadata": {},
   "outputs": [
    {
     "name": "stdout",
     "output_type": "stream",
     "text": [
      "Rotterdam, The Netherlands \n",
      " Rotterdam, Zuid-Holland, Nederland\n",
      "Minneapolis, MN, USA \n",
      " Minneapolis, Hennepin County, Minnesota, USA\n",
      "Galveston, TX, USA \n",
      " Galveston, Galveston County, Texas, USA\n",
      "Vienna, Austria \n",
      " Wien, 1010, Österreich\n",
      "Bilthoven, The Netherlands \n",
      " Bilthoven, De Bilt, Utrecht, Nederland\n",
      "Beijing, China \n",
      " 北京市, 东城区, 北京市, 100010, 中国\n",
      "Baltimore, United States. \n",
      " Baltimore, Maryland, 21203, USA\n",
      "Lisbon, Portugal \n",
      " Lisboa, LSB, Lisboa, Grande Lisboa, Área Metropolitana de Lisboa, 1100-148, Portugal\n",
      "Copenhagen, Denmark \n",
      " København, Københavns Kommune, Region Hovedstaden, 1357, Danmark\n",
      "Mexico City, Mexico \n",
      " Ciudad de México, Cuauhtémoc, 06060, México\n",
      "Venice, Italy \n",
      " Venezia, VE, VEN, Italia\n"
     ]
    }
   ],
   "source": [
    "for file in g:\n",
    "    with open(file, 'r') as f:\n",
    "        lines = f.read()\n",
    "        if lines.find('location: \"') > 1:\n",
    "            loc_start = lines.find('location: \"') + 11\n",
    "            lines_trim = lines[loc_start:]\n",
    "            loc_end = lines_trim.find('\"')\n",
    "            location = lines_trim[:loc_end]\n",
    "                            \n",
    "           \n",
    "        location_dict[location] = geocoder.geocode(location)\n",
    "        print(location, \"\\n\", location_dict[location])"
   ]
  },
  {
   "cell_type": "code",
   "execution_count": 14,
   "metadata": {},
   "outputs": [
    {
     "data": {
      "text/plain": [
       "'Written map to ../talkmap/'"
      ]
     },
     "execution_count": 14,
     "metadata": {},
     "output_type": "execute_result"
    }
   ],
   "source": [
    "m = getorg.orgmap.create_map_obj()\n",
    "getorg.orgmap.output_html_cluster_map(location_dict, folder_name=\"../talkmap\", hashed_usernames=False)"
   ]
  },
  {
   "cell_type": "code",
   "execution_count": null,
   "metadata": {
    "collapsed": true
   },
   "outputs": [],
   "source": []
  }
 ],
 "metadata": {
  "anaconda-cloud": {},
  "kernelspec": {
   "display_name": "Python 3",
   "language": "python",
   "name": "python3"
  },
  "language_info": {
   "codemirror_mode": {
    "name": "ipython",
    "version": 3
   },
   "file_extension": ".py",
   "mimetype": "text/x-python",
   "name": "python",
   "nbconvert_exporter": "python",
   "pygments_lexer": "ipython3",
   "version": "3.6.6"
  }
 },
 "nbformat": 4,
 "nbformat_minor": 1
}
